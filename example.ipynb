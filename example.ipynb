{
 "cells": [
  {
   "cell_type": "markdown",
   "metadata": {},
   "source": [
    "### Configure environment"
   ],
   "id": "b854fd54-b34d-4983-a8f8-721245cf1c50"
  },
  {
   "cell_type": "code",
   "execution_count": null,
   "metadata": {},
   "outputs": [],
   "source": [
    "import openstack, chi, chi.ssh, os, utils    "
   ],
   "id": "29dc6232-75f5-4849-bb5e-27173652e865"
  },
  {
   "cell_type": "markdown",
   "metadata": {},
   "source": [
    "In this section, we configure the Chameleon Python client.\n",
    "\n",
    "For this experiment, we’re going to use the KVM@TACC site, which we indicate below. \\]\n",
    "\n",
    "We also need to specify the name of the Chameleon “project” that this experiment is part of. The project name will have the format “CHI-XXXXXX”, where the last part is a 6-digit number, and you can find it on your [user dashboard](https://chameleoncloud.org/user/dashboard/)."
   ],
   "id": "7d3c9e63-0988-4859-a56c-c054866e6ba6"
  },
  {
   "cell_type": "markdown",
   "metadata": {},
   "source": [
    "In the cell below, replace the project ID with your own project ID, then run the cell."
   ],
   "id": "22b99fed-4375-469c-91f7-ab7333a59551"
  },
  {
   "cell_type": "code",
   "execution_count": null,
   "metadata": {},
   "outputs": [],
   "source": [
    "chi.use_site(\"KVM@TACC\")\n",
    "PROJECT_NAME = \"CHI-XXXXXX\"\n",
    "chi.set(\"project_name\", PROJECT_NAME)\n",
    "\n",
    "# configure openstacksdk for actions unsupported by python-chi\n",
    "os_conn = chi.clients.connection()\n"
   ],
   "id": "071ea764-0fb7-4d33-badd-47c47cc6ab1f"
  },
  {
   "cell_type": "markdown",
   "metadata": {},
   "source": [
    "### Define configuration for this experiment (example)"
   ],
   "id": "1a3d1ca4-9f2f-499a-8c82-23ff58176842"
  },
  {
   "cell_type": "code",
   "execution_count": null,
   "metadata": {},
   "outputs": [],
   "source": [
    "username = os.getenv('USER')\n",
    "\n",
    "node_conf = [\n",
    " {'name': \"romeo\",   'flavor': 'm1.small', 'image': 'CC-Ubuntu20.04', 'packages': ['mtr']}, \n",
    " {'name': \"juliet\",  'flavor': 'm1.small', 'image': 'CC-Ubuntu20.04', 'packages': []}, \n",
    " {'name': \"hamlet\",  'flavor': 'm1.small', 'image': 'CC-Ubuntu20.04', 'packages': []}, \n",
    " {'name': \"ophelia\", 'flavor': 'm1.small', 'image': 'CC-Ubuntu20.04','packages': []}, \n",
    " {'name': \"router\",  'flavor': 'm1.small', 'image': 'CC-Ubuntu20.04', 'packages': []}\n",
    "]\n",
    "net_conf = [\n",
    " {\"name\": \"net0\", \"subnet\": \"10.0.0.0/24\", \"nodes\": [{\"name\": \"romeo\",   \"addr\": \"10.0.0.100\"}, {\"name\": \"juliet\", \"addr\": None}, {\"name\": \"router\", \"addr\": \"10.0.0.10\"}]},\n",
    " {\"name\": \"net1\", \"subnet\": \"10.0.1.0/24\", \"nodes\": [{\"name\": \"hamlet\",   \"addr\": \"10.0.1.100\"}, {\"name\": \"ophelia\", \"addr\": \"10.0.1.101\"}, {\"name\": \"router\", \"addr\": \"10.0.1.10\"}]},\n",
    "]\n",
    "route_conf = [\n",
    " {\"addr\": \"10.0.1.0/24\", \"gw\": \"10.0.0.10\", \"nodes\": [\"romeo\"]}, \n",
    " {\"addr\": \"10.0.0.0/24\", \"gw\": \"10.0.1.10\", \"nodes\": [\"hamlet\", \"ophelia\"]}\n",
    "]"
   ],
   "id": "aee03fee-de12-472f-b66b-087f0bca2435"
  },
  {
   "cell_type": "markdown",
   "metadata": {},
   "source": [
    "### Configure resources\n",
    "\n",
    "Now, we will prepare the VMs and network links that our experiment requires."
   ],
   "id": "8dfb02a2-75ae-438f-8a1a-f3a0bfab1d6a"
  },
  {
   "cell_type": "markdown",
   "metadata": {},
   "source": [
    "First, we will prepare a “public” network that we will use for SSH access to our VMs -"
   ],
   "id": "18f23944-aa29-4e60-b6b6-ac9db80fa434"
  },
  {
   "cell_type": "code",
   "execution_count": null,
   "metadata": {},
   "outputs": [],
   "source": [
    "public_net = utils.ensure_network(os_conn, network_name=\"public_net_\" + username)\n",
    "public_net_id = public_net.get(\"id\")\n",
    "public_subnet = utils.ensure_subnet(\n",
    "    os_conn,\n",
    "    name=\"public_subnet_\" + username,\n",
    "    network_id=public_net.get(\"id\"),\n",
    "    ip_version='4',\n",
    "    cidr=\"192.168.10.0/24\",\n",
    "    gateway_ip=\"192.168.10.1\"\n",
    ")"
   ],
   "id": "e8082c5f-c0ed-4821-834a-23b8679c50f1"
  },
  {
   "cell_type": "markdown",
   "metadata": {},
   "source": [
    "Next, we will prepare the “experiment” networks -"
   ],
   "id": "71d52cbb-b722-4591-8144-cb6b07e526ff"
  },
  {
   "cell_type": "code",
   "execution_count": null,
   "metadata": {},
   "outputs": [],
   "source": [
    "nets = []\n",
    "net_ids = []\n",
    "subnets = []\n",
    "for n in net_conf:\n",
    "    exp_net  = utils.ensure_network(os_conn, network_name=\"exp_\" + n['name']  + '_' + username)\n",
    "    exp_net_id = exp_net.get(\"id\")\n",
    "    exp_subnet = utils.ensure_subnet(\n",
    "        os_conn,\n",
    "        name=\"exp_subnet_\" + n['name']  + '_' + username,\n",
    "        network_id=exp_net_id,\n",
    "        ip_version='4',\n",
    "        cidr=n['subnet'],\n",
    "        enable_dhcp=False,\n",
    "        gateway_ip=None\n",
    "    )\n",
    "    nets.append(exp_net)\n",
    "    net_ids.append(exp_net_id)\n",
    "    subnets.append(exp_subnet)"
   ],
   "id": "86b47b95-275d-496d-a651-c0f63cae2be4"
  },
  {
   "cell_type": "markdown",
   "metadata": {},
   "source": [
    "We also need to disable the default security settings on the “experiment” links -"
   ],
   "id": "b246017b-a396-4d8b-b05e-c58cac2b9f9f"
  },
  {
   "cell_type": "code",
   "execution_count": null,
   "metadata": {},
   "outputs": [],
   "source": [
    "%%bash -s \"$PROJECT_NAME\" \"{\" \".join(net_ids)}\"\n",
    "export OS_PROJECT_NAME=$1\n",
    "export OS_AUTH_URL=https://kvm.tacc.chameleoncloud.org:5000/v3\n",
    "export OS_REGION_NAME=KVM@TACC\n",
    "access_token=$(curl -s -H\"authorization: token $JUPYTERHUB_API_TOKEN\" \"$JUPYTERHUB_API_URL/users/$JUPYTERHUB_USER\" | jq -r .auth_state.access_token)\n",
    "export OS_ACCESS_TOKEN=\"$access_token\"\n",
    "\n",
    "for i in $2\n",
    "do\n",
    "    openstack network set --disable-port-security \"$i\"\n",
    "done"
   ],
   "id": "3146a088-b941-4d5e-9fef-7b75663f3221"
  },
  {
   "cell_type": "markdown",
   "metadata": {},
   "source": [
    "Now we create the VMs -"
   ],
   "id": "c5728d6c-f2b8-4a19-a67e-a41414a7f36b"
  },
  {
   "cell_type": "code",
   "execution_count": null,
   "metadata": {},
   "outputs": [],
   "source": [
    "servers = []\n",
    "server_ids = []\n",
    "for i, n in enumerate(node_conf, start=10):\n",
    "    image_uuid = os_conn.image.find_image(n['image']).id\n",
    "    flavor_uuid = os_conn.compute.find_flavor(n['flavor']).id\n",
    "    # find out details of exp interface(s)\n",
    "    nics = [{'net-id': chi.network.get_network_id( \"exp_\" + net['name']  + '_' + username ), 'v4-fixed-ip': node['addr']} for net in net_conf for node in net['nodes'] if node['name']==n['name']]\n",
    "    # also include a public network interface\n",
    "    nics.insert(0, {\"net-id\": public_net_id, \"v4-fixed-ip\":\"192.168.10.\" + str(i)})\n",
    "    server = utils.ensure_server(\n",
    "        os_conn,\n",
    "        name=n['name'] + \"_\" + username,\n",
    "        image_id=image_uuid,\n",
    "        flavor_id=flavor_uuid,\n",
    "        nics=nics\n",
    "    )\n",
    "    servers.append(server)\n",
    "    server_ids.append(chi.server.get_server(n['name'] + \"_\" + username).id)"
   ],
   "id": "34aea5fd-8a31-4778-a69c-f7b534632008"
  },
  {
   "cell_type": "markdown",
   "metadata": {},
   "source": [
    "We wait for all servers to come up before we proceed -"
   ],
   "id": "0f2993e3-be6a-467c-bf67-bd4a280783a7"
  },
  {
   "cell_type": "code",
   "execution_count": null,
   "metadata": {},
   "outputs": [],
   "source": [
    "for server_id in server_ids:\n",
    "    chi.server.wait_for_active(server_id)"
   ],
   "id": "210d3007-20f0-4e59-aeeb-6c9cf6f05c8d"
  },
  {
   "cell_type": "markdown",
   "metadata": {},
   "source": [
    "Next, we will set up SSH access to the VMs.\n",
    "\n",
    "First, we will make sure the “public” network is connected to the Internet. Then, we will configure it to permit SSH access on port 22 for each port connected to this network."
   ],
   "id": "d5f494c6-a491-437a-9593-4c809ea357be"
  },
  {
   "cell_type": "code",
   "execution_count": null,
   "metadata": {},
   "outputs": [],
   "source": [
    "# connect them to the Internet on the \"public\" network (e.g. for software installation)\n",
    "router = chi.network.create_router('inet_router_' + username, gw_network_name='public')\n",
    "chi.network.add_subnet_to_router(router.get(\"id\"), public_subnet.get(\"id\"))"
   ],
   "id": "0311484e-a68c-4458-9c1d-b63198f475b8"
  },
  {
   "cell_type": "code",
   "execution_count": null,
   "metadata": {},
   "outputs": [],
   "source": [
    "# prepare SSH access on the three servers\n",
    "# WARNING: this relies on undocumented behavior of associate_floating_ip \n",
    "# that it associates the IP with the first port on the server\n",
    "server_ips = []\n",
    "for server_id in server_ids:\n",
    "    ip = chi.server.associate_floating_ip(server_id)\n",
    "    server_ips.append(ip)"
   ],
   "id": "35f56625-5e0d-4d4b-afb3-bb38f3ecbb81"
  },
  {
   "cell_type": "markdown",
   "metadata": {},
   "source": [
    "Note: The following cells assumes that a security group named “Allow SSH” already exists in your project, and is configured to allow SSH access on port 22. If you have done the “Hello, Chameleon” experiment then you already have this security group."
   ],
   "id": "4d60b5d8-bcd3-474f-acf6-0bb010e9deed"
  },
  {
   "cell_type": "code",
   "execution_count": null,
   "metadata": {},
   "outputs": [],
   "source": [
    "port_ids = [port['id'] for port in chi.network.list_ports() if port['port_security_enabled'] and port['network_id']==public_net.get(\"id\")]\n",
    "security_group_id = os_conn.get_security_group(\"Allow SSH\").id"
   ],
   "id": "62d0cf54-d843-4659-ba8c-78e53954f296"
  },
  {
   "cell_type": "code",
   "execution_count": null,
   "metadata": {},
   "outputs": [],
   "source": [
    "%%bash -s \"$PROJECT_NAME\" \"$security_group_id\" \"{\" \".join(port_ids)}\"\n",
    "export OS_PROJECT_NAME=$1\n",
    "export OS_AUTH_URL=https://kvm.tacc.chameleoncloud.org:5000/v3\n",
    "export OS_REGION_NAME=KVM@TACC\n",
    "access_token=$(curl -s -H\"authorization: token $JUPYTERHUB_API_TOKEN\" \"$JUPYTERHUB_API_URL/users/$JUPYTERHUB_USER\" | jq -r .auth_state.access_token)\n",
    "export OS_ACCESS_TOKEN=\"$access_token\"\n",
    "\n",
    "for i in $3\n",
    "do\n",
    "    openstack port set \"$i\" --security-group \"$2\"\n",
    "done"
   ],
   "id": "32f18fb3-05dd-4da6-97e8-26725337733d"
  },
  {
   "cell_type": "markdown",
   "metadata": {},
   "source": [
    "We also copy our account keys to all of the servers -"
   ],
   "id": "c9677eb2-2759-4a20-becc-810dc827d40a"
  },
  {
   "cell_type": "code",
   "execution_count": null,
   "metadata": {},
   "outputs": [],
   "source": [
    "for ip in server_ips:\n",
    "    chi.server.wait_for_tcp(ip, port=22)"
   ],
   "id": "7bddf086-2711-4279-84c8-7cb4170ca410"
  },
  {
   "cell_type": "code",
   "execution_count": null,
   "metadata": {},
   "outputs": [],
   "source": [
    "server_remotes = [chi.ssh.Remote(ip) for ip in server_ips]"
   ],
   "id": "135d33ad-c2d0-4947-bade-3d5807debc84"
  },
  {
   "cell_type": "code",
   "execution_count": null,
   "metadata": {},
   "outputs": [],
   "source": [
    "nova=chi.clients.nova()\n",
    "# iterate over all keypairs in this account\n",
    "for kp in nova.keypairs.list(): \n",
    "    public_key = nova.keypairs.get(kp.name).public_key \n",
    "    for remote in server_remotes:\n",
    "        remote.run(f\"echo {public_key} >> ~/.ssh/authorized_keys\")     "
   ],
   "id": "770b8255-f76b-489f-aa6f-caee8e14af40"
  },
  {
   "cell_type": "markdown",
   "metadata": {},
   "source": [
    "Finally, we need to configure our resources, including software package installation and network configuration."
   ],
   "id": "59d79344-bbad-4853-bff6-03d30705ddc6"
  },
  {
   "cell_type": "code",
   "execution_count": null,
   "metadata": {},
   "outputs": [],
   "source": [
    "# configure an IP address on each port that is supposed to have one\n",
    "for port in chi.network.list_ports():\n",
    "    if port['network_id'] in net_ids:\n",
    "        i = server_ids.index(port['device_id'])\n",
    "        j = net_ids.index(port['network_id'])\n",
    "        port_conf =  [item for item in net_conf[j]['nodes'] if item['name'] == node_conf[i]['name'] ][0]\n",
    "        if port_conf['addr']:\n",
    "            server_remotes[i].run( \"sudo ip addr flush dev $(ip --br link | grep '\" + port['mac_address'] + \"' | awk '{print $1}')\" )\n",
    "            cmd_prefix = \"sudo ip addr add \" + port_conf['addr'] + \"/\" + net_conf[j]['subnet'].split(\"/\")[1] \n",
    "            server_remotes[i].run( cmd_prefix + \" dev $(ip --br link | grep '\" + port['mac_address'] + \"' | awk '{print $1}')\" )\n",
    "        else:\n",
    "            server_remotes[i].run( \"sudo ip addr flush dev $(ip --br link | grep '\" + port['mac_address'] + \"' | awk '{print $1}')\" )"
   ],
   "id": "d2ac0c61-69a9-438e-8d1a-d3548eda15ad"
  },
  {
   "cell_type": "code",
   "execution_count": null,
   "metadata": {},
   "outputs": [],
   "source": [
    "for i, n in enumerate(node_conf):\n",
    "    remote = server_remotes[i]\n",
    "    # enable forwarding\n",
    "    remote.run(f\"sudo sysctl -w net.ipv4.ip_forward=1\") \n",
    "    remote.run(f\"sudo ufw disable\") \n",
    "    # configure static routes\n",
    "    for r in route_conf: \n",
    "        if n['name'] in r['nodes']:\n",
    "            remote.run(f\"sudo ip route add \" + r['addr'] + \" via \" + r['gw']) "
   ],
   "id": "975bb717-56a7-4950-bc71-7ddbaecbc030"
  },
  {
   "cell_type": "code",
   "execution_count": null,
   "metadata": {},
   "outputs": [],
   "source": [
    "for i, n in enumerate(node_conf):\n",
    "    # install packages\n",
    "    if len(n['packages']):\n",
    "            remote.run(f\"sudo apt update; sudo apt -y install \" + \" \".join(n['packages'])) "
   ],
   "id": "a3452a03-30ff-42a2-87b3-42432a036841"
  },
  {
   "cell_type": "code",
   "execution_count": null,
   "metadata": {},
   "outputs": [],
   "source": [
    "# prepare a \"hosts\" file that has names and addresses of every node\n",
    "hosts_txt = [ \"%s\\t%s\" % ( n['addr'], n['name'] ) for net in net_conf  for n in net['nodes'] if type(n) is dict and n['addr']]\n",
    "for remote in server_remotes:\n",
    "    for h in hosts_txt:\n",
    "        remote.run(\"echo %s | sudo tee -a /etc/hosts > /dev/null\" % h)"
   ],
   "id": "20129dab-b671-4b1c-bd6d-e8c4e1662152"
  },
  {
   "cell_type": "code",
   "execution_count": null,
   "metadata": {},
   "outputs": [],
   "source": [
    "# turn segment offload off\n",
    "for port in chi.network.list_ports():\n",
    "    if port['network_id'] in net_ids:\n",
    "        i = server_ids.index(port['device_id'])\n",
    "        j = net_ids.index(port['network_id'])\n",
    "        for offload in [\"gro\", \"gso\", \"tso\"]:\n",
    "            server_remotes[i].run( \"sudo ethtool -K $(ip --br link | grep '\" + port['mac_address'] + \"' | awk '{print $1}') \" + offload + \" off\" )"
   ],
   "id": "546434dd-0447-4425-b5ae-cda38c284fd7"
  },
  {
   "cell_type": "markdown",
   "metadata": {},
   "source": [
    "### Log in to resources\n",
    "\n",
    "At this point, we should be able to log in to our resources over SSH! Run the following cell, and observe the output - you will see an SSH command for each of the nodes in your topology."
   ],
   "id": "dfa3557a-ba77-4f6f-b5ef-5a97359eeb2c"
  },
  {
   "cell_type": "code",
   "execution_count": null,
   "metadata": {},
   "outputs": [],
   "source": [
    "import pandas as pd\n",
    "pd.set_option('display.max_colwidth', None)\n",
    "slice_info = [{'Name': n['name'], 'SSH command': \"ssh cc@\" + server_ips[i] } for i, n in enumerate(node_conf)]\n",
    "pd.DataFrame(slice_info).set_index('Name')"
   ],
   "id": "bb35dd16-7aec-40f8-a19d-8b7877190744"
  },
  {
   "cell_type": "markdown",
   "metadata": {},
   "source": [
    "Now, you can open an SSH session on any of the nodes as follows:\n",
    "\n",
    "-   In Jupyter, from the menu bar, use File \\> New \\> Terminal to open a new terminal.\n",
    "-   Copy an SSH command from the output above, and paste it into the terminal.\n",
    "-   You can repeat this process (open several terminals) to start a session on each node. Each terminal session will have a tab in the Jupyter environment, so that you can easily switch between them.\n",
    "\n",
    "Alternatively, you can use your local terminal to log on to each node, if you prefer. (On your local terminal, you may need to also specify your key path as part of the SSH command, using the `-i` argument followed by the path to your private key.)"
   ],
   "id": "9b56f1bf-bd26-4a6a-b372-cb616843b528"
  },
  {
   "cell_type": "markdown",
   "metadata": {},
   "source": [
    "### Delete resources\n",
    "\n",
    "When you finish your experiment, you should delete your resources! The following cells deletes all the resources in this experiment, freeing them for other experimenters."
   ],
   "id": "56cc8645-a02b-4a5f-98bd-fb60e768a542"
  },
  {
   "cell_type": "code",
   "execution_count": null,
   "metadata": {},
   "outputs": [],
   "source": [
    "# delete the nodes\n",
    "for server_id in server_ids:\n",
    "    chi.server.delete_server(server_id)"
   ],
   "id": "b169b446-b2e5-42ba-9fef-8b8d4a104354"
  },
  {
   "cell_type": "code",
   "execution_count": null,
   "metadata": {},
   "outputs": [],
   "source": [
    "# release the floating IP addresses used for SSH\n",
    "for server_ip in server_ips:\n",
    "    ip_details = chi.network.get_floating_ip(server_ip)\n",
    "    chi.neutron().delete_floatingip(ip_details[\"id\"])"
   ],
   "id": "df2aac39-8bb7-442a-855d-58cb7b00f97a"
  },
  {
   "cell_type": "code",
   "execution_count": null,
   "metadata": {},
   "outputs": [],
   "source": [
    "# delete the router used for public Internet access\n",
    "chi.network.remove_subnet_from_router(router.get(\"id\"), public_subnet.get(\"id\"))\n",
    "chi.network.delete_router(router.get(\"id\"))"
   ],
   "id": "441c5b42-021e-481c-949d-9e85f394ccfa"
  },
  {
   "cell_type": "code",
   "execution_count": null,
   "metadata": {},
   "outputs": [],
   "source": [
    "# delete the public network\n",
    "chi.network.delete_subnet(public_subnet.get('id'))\n",
    "chi.network.delete_network(public_net.get(\"id\"))"
   ],
   "id": "c882708f-d35b-4aef-99b5-036f8663432c"
  },
  {
   "cell_type": "code",
   "execution_count": null,
   "metadata": {},
   "outputs": [],
   "source": [
    "# delete the experiment networks\n",
    "for subnet, net in zip(subnets, nets):\n",
    "    chi.network.delete_subnet(subnet.get('id'))\n",
    "    chi.network.delete_network(net.get('id'))"
   ],
   "id": "07d6262a-a627-4152-8e91-02c949bc0fb1"
  }
 ],
 "nbformat": 4,
 "nbformat_minor": 5,
 "metadata": {}
}
