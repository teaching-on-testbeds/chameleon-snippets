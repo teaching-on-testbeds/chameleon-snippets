{
 "cells": [
  {
   "cell_type": "markdown",
   "metadata": {},
   "source": [
    "### Configure environment"
   ],
   "id": "e03f9cc2-8b44-4ab0-81c3-d04447f4c2d1"
  },
  {
   "cell_type": "code",
   "execution_count": null,
   "metadata": {},
   "outputs": [],
   "source": [
    "import openstack, chi, chi.ssh, chi.network, chi.server, os"
   ],
   "id": "73e91aa1-41bc-45e8-a83a-dcc8979e32dc"
  },
  {
   "cell_type": "markdown",
   "metadata": {},
   "source": [
    "In this section, we configure the Chameleon Python client.\n",
    "\n",
    "For this experiment, we’re going to use the KVM@TACC site, which we indicate below.\n",
    "\n",
    "We also need to specify the name of the Chameleon “project” that this experiment is part of. The project name will have the format “CHI-XXXXXX”, where the last part is a 6-digit number, and you can find it on your [user dashboard](https://chameleoncloud.org/user/dashboard/)."
   ],
   "id": "8f7de599-66aa-49cc-8c4c-0dbbeee9bd1d"
  },
  {
   "cell_type": "markdown",
   "metadata": {},
   "source": [
    "In the cell below, replace the project ID with your own project ID, then run the cell."
   ],
   "id": "bfa7f3e5-bda8-4ca8-9b60-4ed88ff17299"
  },
  {
   "cell_type": "code",
   "execution_count": null,
   "metadata": {},
   "outputs": [],
   "source": [
    "chi.use_site(\"KVM@TACC\")\n",
    "PROJECT_NAME = \"CHI-XXXXXX\"\n",
    "chi.set(\"project_name\", PROJECT_NAME)\n",
    "\n",
    "# configure openstacksdk for actions unsupported by python-chi\n",
    "os_conn = chi.clients.connection()\n"
   ],
   "id": "434cdaa1-8652-4ed4-ac8f-0d8c7c8d1ec7"
  },
  {
   "cell_type": "markdown",
   "metadata": {},
   "source": [
    "### Define configuration for this experiment (example)"
   ],
   "id": "c733b1a0-e80d-41ed-b8b2-9b2d94416cf8"
  },
  {
   "cell_type": "code",
   "execution_count": null,
   "metadata": {},
   "outputs": [],
   "source": [
    "username = os.getenv('USER')\n",
    "\n",
    "node_conf = [\n",
    " {'name': \"romeo\",   'flavor': 'm1.small', 'image': 'CC-Ubuntu20.04', 'packages': ['mtr']}, \n",
    " {'name': \"juliet\",  'flavor': 'm1.small', 'image': 'CC-Ubuntu20.04', 'packages': []}, \n",
    " {'name': \"hamlet\",  'flavor': 'm1.small', 'image': 'CC-Ubuntu20.04', 'packages': []}, \n",
    " {'name': \"ophelia\", 'flavor': 'm1.small', 'image': 'CC-Ubuntu20.04','packages': []}, \n",
    " {'name': \"router\",  'flavor': 'm1.small', 'image': 'CC-Ubuntu20.04', 'packages': []}\n",
    "]\n",
    "net_conf = [\n",
    " {\"name\": \"net0\", \"subnet\": \"10.0.0.0/24\", \"nodes\": [{\"name\": \"romeo\",   \"addr\": \"10.0.0.100\"}, {\"name\": \"juliet\", \"addr\": None}, {\"name\": \"router\", \"addr\": \"10.0.0.10\"}]},\n",
    " {\"name\": \"net1\", \"subnet\": \"10.0.1.0/24\", \"nodes\": [{\"name\": \"hamlet\",   \"addr\": \"10.0.1.100\"}, {\"name\": \"ophelia\", \"addr\": \"10.0.1.101\"}, {\"name\": \"router\", \"addr\": \"10.0.1.10\"}]},\n",
    "]\n",
    "route_conf = [\n",
    " {\"addr\": \"10.0.1.0/24\", \"gw\": \"10.0.0.10\", \"nodes\": [\"romeo\"]}, \n",
    " {\"addr\": \"10.0.0.0/24\", \"gw\": \"10.0.1.10\", \"nodes\": [\"hamlet\", \"ophelia\"]}\n",
    "]"
   ],
   "id": "7ff3c924-fe9a-45d0-a71b-83ac1efef74d"
  },
  {
   "cell_type": "markdown",
   "metadata": {},
   "source": [
    "### Configure resources\n",
    "\n",
    "Now, we will prepare the VMs and network links that our experiment requires."
   ],
   "id": "9ce29ee3-5dfd-4022-913e-0865014cc076"
  },
  {
   "cell_type": "markdown",
   "metadata": {},
   "source": [
    "First, we will prepare a “public” network that we will use for SSH access to our VMs -"
   ],
   "id": "2b2f6c09-fa38-4adc-845d-8f02edf86574"
  },
  {
   "cell_type": "code",
   "execution_count": null,
   "metadata": {},
   "outputs": [],
   "source": [
    "public_net = os_conn.network.create_network(name=\"public_net_\" + username)\n",
    "public_net_id = public_net.get(\"id\")\n",
    "public_subnet = os_conn.network.create_subnet(\n",
    "    name=\"public_subnet_\" + username,\n",
    "    network_id=public_net.get(\"id\"),\n",
    "    ip_version='4',\n",
    "    cidr=\"192.168.10.0/24\",\n",
    "    gateway_ip=\"192.168.10.1\",\n",
    "    is_dhcp_enabled = True\n",
    ")"
   ],
   "id": "dd36eb9d-3dc5-4297-a306-b2a14e997080"
  },
  {
   "cell_type": "markdown",
   "metadata": {},
   "source": [
    "Next, we will prepare the “experiment” networks -"
   ],
   "id": "81bc55dd-f581-4f15-a5bd-b9dc1dfdef4e"
  },
  {
   "cell_type": "code",
   "execution_count": null,
   "metadata": {},
   "outputs": [],
   "source": [
    "nets = []\n",
    "net_ids = []\n",
    "subnets = []\n",
    "for n in net_conf:\n",
    "    exp_net = os_conn.network.create_network(name=\"exp_\" + n['name']  + '_' + username)\n",
    "    exp_net_id = exp_net.get(\"id\")\n",
    "    os_conn.network.update_network(exp_net, is_port_security_enabled=False)\n",
    "    exp_subnet = os_conn.network.create_subnet(\n",
    "        name=\"exp_subnet_\" + n['name']  + '_' + username,\n",
    "        network_id=exp_net.get(\"id\"),\n",
    "        ip_version='4',\n",
    "        cidr=n['subnet'],\n",
    "        gateway_ip=None,\n",
    "        is_dhcp_enabled = False\n",
    "    )\n",
    "    nets.append(exp_net)\n",
    "    net_ids.append(exp_net_id)\n",
    "    subnets.append(exp_subnet)"
   ],
   "id": "27e3e509-0f36-4e13-9a6c-0ca824b749b9"
  },
  {
   "cell_type": "markdown",
   "metadata": {},
   "source": [
    "Now we create the VMs -"
   ],
   "id": "f66e78aa-2e66-4fc8-9f36-906aabe76a8d"
  },
  {
   "cell_type": "code",
   "execution_count": null,
   "metadata": {},
   "outputs": [],
   "source": [
    "servers = []\n",
    "server_ids = []\n",
    "for i, n in enumerate(node_conf, start=10):\n",
    "    image_uuid = os_conn.image.find_image(n['image']).id\n",
    "    flavor_uuid = os_conn.compute.find_flavor(n['flavor']).id\n",
    "    # find out details of exp interface(s)\n",
    "    nics = [{'net-id': chi.network.get_network_id( \"exp_\" + net['name']  + '_' + username ), 'v4-fixed-ip': node['addr']} for net in net_conf for node in net['nodes'] if node['name']==n['name']]\n",
    "    # also include a public network interface\n",
    "    nics.insert(0, {\"net-id\": public_net_id, \"v4-fixed-ip\":\"192.168.10.\" + str(i)})\n",
    "    server = chi.server.create_server(\n",
    "        server_name=n['name'] + \"_\" + username,\n",
    "        image_id=image_uuid,\n",
    "        flavor_id=flavor_uuid,\n",
    "        nics=nics\n",
    "    )\n",
    "    servers.append(server)\n",
    "    server_ids.append(chi.server.get_server(n['name'] + \"_\" + username).id)"
   ],
   "id": "d5836bd2-fef2-4d27-8e6e-2a2ea070c626"
  },
  {
   "cell_type": "markdown",
   "metadata": {},
   "source": [
    "We wait for all servers to come up before we proceed -"
   ],
   "id": "4d47f849-e1b4-4b85-9473-873418e110f9"
  },
  {
   "cell_type": "code",
   "execution_count": null,
   "metadata": {},
   "outputs": [],
   "source": [
    "for server_id in server_ids:\n",
    "    chi.server.wait_for_active(server_id)"
   ],
   "id": "a553aa53-fb97-479e-8742-65f8373272f9"
  },
  {
   "cell_type": "markdown",
   "metadata": {},
   "source": [
    "Next, we will set up SSH access to the VMs.\n",
    "\n",
    "First, we will make sure the “public” network is connected to the Internet. Then, we will configure it to permit SSH access on port 22 for each port connected to this network."
   ],
   "id": "cdd2a0f7-21c9-4def-864d-89eb1431b766"
  },
  {
   "cell_type": "code",
   "execution_count": null,
   "metadata": {},
   "outputs": [],
   "source": [
    "# connect them to the Internet on the \"public\" network (e.g. for software installation)\n",
    "router = chi.network.create_router('inet_router_' + username, gw_network_name='public')\n",
    "chi.network.add_subnet_to_router(router.get(\"id\"), public_subnet.get(\"id\"))"
   ],
   "id": "9c0b97d8-f11d-4e0f-a5f1-664f1f490f10"
  },
  {
   "cell_type": "code",
   "execution_count": null,
   "metadata": {},
   "outputs": [],
   "source": [
    "# prepare SSH access on the three servers\n",
    "# WARNING: this relies on undocumented behavior of associate_floating_ip \n",
    "# that it associates the IP with the first port on the server\n",
    "server_ips = []\n",
    "for server_id in server_ids:\n",
    "    ip = chi.server.associate_floating_ip(server_id)\n",
    "    server_ips.append(ip)"
   ],
   "id": "5f544e82-7382-4d25-b9d3-8efaaf5447e4"
  },
  {
   "cell_type": "markdown",
   "metadata": {},
   "source": [
    "Note: The following cells assumes that a security group named “Allow SSH” already exists in your project, and is configured to allow SSH access on port 22. If you have done the “Hello, Chameleon” experiment then you already have this security group."
   ],
   "id": "ef814bbd-ad82-4503-a622-4ee6f4ee4bb0"
  },
  {
   "cell_type": "code",
   "execution_count": null,
   "metadata": {},
   "outputs": [],
   "source": [
    "security_group_id = os_conn.get_security_group(\"Allow SSH\").id\n",
    "for port in chi.network.list_ports(): \n",
    "    if port['port_security_enabled'] and port['network_id']==public_net.get(\"id\"):\n",
    "        os_conn.network.update_port(port['id'], security_groups=[security_group_id])"
   ],
   "id": "6c88dbf0-cc37-4b8f-8c92-8f9a9f8c6262"
  },
  {
   "cell_type": "markdown",
   "metadata": {},
   "source": [
    "We also copy our account keys to all of the servers -"
   ],
   "id": "209408bb-5a7f-4343-a55f-bbb68d37840d"
  },
  {
   "cell_type": "code",
   "execution_count": null,
   "metadata": {},
   "outputs": [],
   "source": [
    "for ip in server_ips:\n",
    "    chi.server.wait_for_tcp(ip, port=22)"
   ],
   "id": "bdca3943-fe8b-4eda-868a-dca25619b800"
  },
  {
   "cell_type": "code",
   "execution_count": null,
   "metadata": {},
   "outputs": [],
   "source": [
    "server_remotes = [chi.ssh.Remote(ip) for ip in server_ips]"
   ],
   "id": "00d0e1f8-36e9-4247-bea4-668bff54f3da"
  },
  {
   "cell_type": "code",
   "execution_count": null,
   "metadata": {},
   "outputs": [],
   "source": [
    "nova=chi.clients.nova()\n",
    "# iterate over all keypairs in this account\n",
    "for kp in nova.keypairs.list(): \n",
    "    public_key = nova.keypairs.get(kp.name).public_key \n",
    "    for remote in server_remotes:\n",
    "        remote.run(f\"echo {public_key} >> ~/.ssh/authorized_keys\")     "
   ],
   "id": "1f9b5aff-5d82-4e62-89f1-3edecea49037"
  },
  {
   "cell_type": "markdown",
   "metadata": {},
   "source": [
    "Finally, we need to configure our resources, including software package installation and network configuration."
   ],
   "id": "ba9122e3-f332-4ad6-a438-3109cb94de60"
  },
  {
   "cell_type": "code",
   "execution_count": null,
   "metadata": {},
   "outputs": [],
   "source": [
    "# configure an IP address on each port that is supposed to have one\n",
    "for port in chi.network.list_ports():\n",
    "    if port['network_id'] in net_ids:\n",
    "        i = server_ids.index(port['device_id'])\n",
    "        j = net_ids.index(port['network_id'])\n",
    "        port_conf =  [item for item in net_conf[j]['nodes'] if item['name'] == node_conf[i]['name'] ][0]\n",
    "        if port_conf['addr']:\n",
    "            server_remotes[i].run( \"sudo ip addr flush dev $(ip --br link | grep '\" + port['mac_address'] + \"' | awk '{print $1}')\" )\n",
    "            cmd_prefix = \"sudo ip addr add \" + port_conf['addr'] + \"/\" + net_conf[j]['subnet'].split(\"/\")[1] \n",
    "            server_remotes[i].run( cmd_prefix + \" dev $(ip --br link | grep '\" + port['mac_address'] + \"' | awk '{print $1}')\" )\n",
    "        else:\n",
    "            server_remotes[i].run( \"sudo ip addr flush dev $(ip --br link | grep '\" + port['mac_address'] + \"' | awk '{print $1}')\" )"
   ],
   "id": "69952ec2-51f7-417c-af57-95ae94d7ec23"
  },
  {
   "cell_type": "code",
   "execution_count": null,
   "metadata": {},
   "outputs": [],
   "source": [
    "for i, n in enumerate(node_conf):\n",
    "    remote = server_remotes[i]\n",
    "    # enable forwarding\n",
    "    remote.run(f\"sudo sysctl -w net.ipv4.ip_forward=1\") \n",
    "    remote.run(f\"sudo ufw disable\") \n",
    "    # configure static routes\n",
    "    for r in route_conf: \n",
    "        if n['name'] in r['nodes']:\n",
    "            remote.run(f\"sudo ip route add \" + r['addr'] + \" via \" + r['gw']) "
   ],
   "id": "b470cf0d-b739-4114-911d-63c014a3de00"
  },
  {
   "cell_type": "code",
   "execution_count": null,
   "metadata": {},
   "outputs": [],
   "source": [
    "for i, n in enumerate(node_conf):\n",
    "    # install packages\n",
    "    if len(n['packages']):\n",
    "            remote.run(f\"sudo apt update; sudo apt -y install \" + \" \".join(n['packages'])) "
   ],
   "id": "6ae4dab1-9620-4eab-b1d0-e457f3043673"
  },
  {
   "cell_type": "code",
   "execution_count": null,
   "metadata": {},
   "outputs": [],
   "source": [
    "# prepare a \"hosts\" file that has names and addresses of every node\n",
    "hosts_txt = [ \"%s\\t%s\" % ( n['addr'], n['name'] ) for net in net_conf  for n in net['nodes'] if type(n) is dict and n['addr']]\n",
    "for remote in server_remotes:\n",
    "    for h in hosts_txt:\n",
    "        remote.run(\"echo %s | sudo tee -a /etc/hosts > /dev/null\" % h)"
   ],
   "id": "aca7ec9e-b7b6-423f-9332-11eab05e99d3"
  },
  {
   "cell_type": "code",
   "execution_count": null,
   "metadata": {},
   "outputs": [],
   "source": [
    "# turn segment offload off\n",
    "for port in chi.network.list_ports():\n",
    "    if port['network_id'] in net_ids:\n",
    "        i = server_ids.index(port['device_id'])\n",
    "        j = net_ids.index(port['network_id'])\n",
    "        for offload in [\"gro\", \"gso\", \"tso\"]:\n",
    "            server_remotes[i].run( \"sudo ethtool -K $(ip --br link | grep '\" + port['mac_address'] + \"' | awk '{print $1}') \" + offload + \" off\" )"
   ],
   "id": "2c382b21-53ed-4d92-b7d1-f7fe3511274e"
  },
  {
   "cell_type": "markdown",
   "metadata": {},
   "source": [
    "### Draw the network topology"
   ],
   "id": "8917a580-655f-4cce-a59f-9f738363be96"
  },
  {
   "cell_type": "markdown",
   "metadata": {},
   "source": [
    "The following cells will draw the network topology, for your reference."
   ],
   "id": "8cdb9286-7388-4d46-b3e9-96ed0e261d32"
  },
  {
   "cell_type": "code",
   "execution_count": null,
   "metadata": {},
   "outputs": [],
   "source": [
    "!pip install networkx"
   ],
   "id": "1fe01873-4983-4fbb-95d4-bc0a89fc5e3f"
  },
  {
   "cell_type": "code",
   "execution_count": null,
   "metadata": {},
   "outputs": [],
   "source": [
    "nodes = [ (n['name'], {'color': 'pink'}) for n in net_conf ] + [(n['name'], {'color': 'lightblue'}) for n in node_conf ]\n",
    "edges = [(net['name'], node['name'], \n",
    "          {'label': node['addr'] + '/' + net['subnet'].split(\"/\")[1] }) if node['addr'] else (net['name'], node['name']) for net in net_conf for node in net['nodes'] ]"
   ],
   "id": "79b0a162-7cfd-42e3-97a6-1a202e4f4157"
  },
  {
   "cell_type": "code",
   "execution_count": null,
   "metadata": {},
   "outputs": [],
   "source": [
    "import networkx as nx\n",
    "import matplotlib.pyplot as plt\n",
    "plt.figure(figsize=(len(nodes),len(nodes)))\n",
    "G = nx.Graph()\n",
    "G.add_nodes_from(nodes)\n",
    "G.add_edges_from(edges)\n",
    "pos = nx.spring_layout(G)\n",
    "nx.draw(G, pos, node_shape='s',  \n",
    "        node_color=[n[1]['color'] for n in nodes], \n",
    "        node_size=[len(n[0])*400 for n in nodes],  \n",
    "        with_labels=True);\n",
    "nx.draw_networkx_edge_labels(G,pos,\n",
    "                             edge_labels=nx.get_edge_attributes(G,'label'),\n",
    "                             font_color='gray',  font_size=8, rotate=False);"
   ],
   "id": "ab40f94e-0d14-466d-964c-ee0bc08808e6"
  },
  {
   "cell_type": "markdown",
   "metadata": {},
   "source": [
    "### Log in to resources\n",
    "\n",
    "At this point, we should be able to log in to our resources over SSH! Run the following cell, and observe the output - you will see an SSH command for each of the nodes in your topology."
   ],
   "id": "1f947d62-a5d2-463b-a17c-3e081abce739"
  },
  {
   "cell_type": "code",
   "execution_count": null,
   "metadata": {},
   "outputs": [],
   "source": [
    "import pandas as pd\n",
    "pd.set_option('display.max_colwidth', None)\n",
    "slice_info = [{'Name': n['name'], 'SSH command': \"ssh cc@\" + server_ips[i] } for i, n in enumerate(node_conf)]\n",
    "pd.DataFrame(slice_info).set_index('Name')"
   ],
   "id": "97b5083e-ed42-4984-a3c0-b2254e2a908d"
  },
  {
   "cell_type": "markdown",
   "metadata": {},
   "source": [
    "Now, you can open an SSH session on any of the nodes as follows:\n",
    "\n",
    "-   In Jupyter, from the menu bar, use File \\> New \\> Terminal to open a new terminal.\n",
    "-   Copy an SSH command from the output above, and paste it into the terminal.\n",
    "-   You can repeat this process (open several terminals) to start a session on each node. Each terminal session will have a tab in the Jupyter environment, so that you can easily switch between them.\n",
    "\n",
    "Alternatively, you can use your local terminal to log on to each node, if you prefer. (On your local terminal, you may need to also specify your key path as part of the SSH command, using the `-i` argument followed by the path to your private key.)"
   ],
   "id": "d7cd5d64-364e-4e4f-8b07-d27885d2ad96"
  },
  {
   "cell_type": "markdown",
   "metadata": {},
   "source": [
    "### Delete resources\n",
    "\n",
    "When you finish your experiment, you should delete your resources! The following cells deletes all the resources in this experiment, freeing them for other experimenters."
   ],
   "id": "165843c0-84f3-4848-82e5-ea16985f62c4"
  },
  {
   "cell_type": "code",
   "execution_count": null,
   "metadata": {},
   "outputs": [],
   "source": [
    "# delete the nodes\n",
    "for server_id in server_ids:\n",
    "    chi.server.delete_server(server_id)"
   ],
   "id": "5f1fc77b-fa98-4e2a-ba59-22a7354fadcf"
  },
  {
   "cell_type": "code",
   "execution_count": null,
   "metadata": {},
   "outputs": [],
   "source": [
    "# release the floating IP addresses used for SSH\n",
    "for server_ip in server_ips:\n",
    "    ip_details = chi.network.get_floating_ip(server_ip)\n",
    "    chi.neutron().delete_floatingip(ip_details[\"id\"])"
   ],
   "id": "0ac788a2-6f68-4780-9073-15679c0fa05c"
  },
  {
   "cell_type": "code",
   "execution_count": null,
   "metadata": {},
   "outputs": [],
   "source": [
    "# delete the router used for public Internet access\n",
    "chi.network.remove_subnet_from_router(router.get(\"id\"), public_subnet.get(\"id\"))\n",
    "chi.network.delete_router(router.get(\"id\"))"
   ],
   "id": "8d47a089-1cf6-4cc6-b55d-abe186e67f49"
  },
  {
   "cell_type": "code",
   "execution_count": null,
   "metadata": {},
   "outputs": [],
   "source": [
    "# delete the public network\n",
    "chi.network.delete_subnet(public_subnet.get('id'))\n",
    "chi.network.delete_network(public_net.get(\"id\"))"
   ],
   "id": "c0f8d19d-5b84-4bd8-973e-e543bc28bd13"
  },
  {
   "cell_type": "code",
   "execution_count": null,
   "metadata": {},
   "outputs": [],
   "source": [
    "# delete the experiment networks\n",
    "for subnet, net in zip(subnets, nets):\n",
    "    chi.network.delete_subnet(subnet.get('id'))\n",
    "    chi.network.delete_network(net.get('id'))"
   ],
   "id": "124707c1-083c-41dd-9ac3-42f950673c5f"
  }
 ],
 "nbformat": 4,
 "nbformat_minor": 5,
 "metadata": {}
}
